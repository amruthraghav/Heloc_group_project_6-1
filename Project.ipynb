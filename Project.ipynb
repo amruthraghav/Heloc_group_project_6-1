{
 "cells": [
  {
   "cell_type": "markdown",
   "metadata": {},
   "source": [
    "# STAT3612 Group Project"
   ]
  },
  {
   "cell_type": "markdown",
   "metadata": {},
   "source": [
    "## Importing Libraries"
   ]
  },
  {
   "cell_type": "code",
   "execution_count": 1,
   "metadata": {},
   "outputs": [],
   "source": [
    "import pandas as pd\n",
    "import numpy as np\n",
    "import matplotlib.pyplot as plt"
   ]
  },
  {
   "cell_type": "markdown",
   "metadata": {},
   "source": [
    "## Reading datasets"
   ]
  },
  {
   "cell_type": "code",
   "execution_count": 2,
   "metadata": {},
   "outputs": [],
   "source": [
    "data = pd.read_csv('HelocData.csv')\n",
    "descriptions = pd.read_excel('HelocDataDict.xlsx')"
   ]
  },
  {
   "cell_type": "code",
   "execution_count": 5,
   "metadata": {},
   "outputs": [
    {
     "name": "stdout",
     "output_type": "stream",
     "text": [
      "1 :  Consolidated version of risk markers\n",
      "2 :  Months Since Oldest Trade Open\n",
      "3 :  Months Since Most Recent Trade Open\n",
      "4 :  Average Months in File\n",
      "5 :  Number Satisfactory Trades\n",
      "6 :  Number Trades 60+ Ever\n",
      "7 :  Number Trades 90+ Ever\n",
      "8 :  Percent Trades Never Delinquent\n",
      "9 :  Months Since Most Recent Delinquency\n",
      "10 :  Max Delq/Public Records Last 12 Months. See tab \"MaxDelq\" for each category\n",
      "11 :  Max Delinquency Ever. See tab \"MaxDelq\" for each category\n",
      "12 :  Number of Total Trades (total number of credit accounts)\n",
      "13 :  Number of Trades Open in Last 12 Months\n",
      "14 :  Percent Installment Trades\n",
      "15 :  Months Since Most Recent Inq excl 7days\n",
      "16 :  Number of Inq Last 6 Months\n",
      "17 :  Number of Inq Last 6 Months excl 7days. Excluding the last 7 days removes inquiries that are likely due to price comparision shopping.\n",
      "18 :  Net Fraction Revolving Burden. This is revolving balance divided by credit limit\n",
      "19 :  Net Fraction Installment Burden. This is installment balance divided by original loan amount\n",
      "20 :  Number Revolving Trades with Balance\n",
      "21 :  Number Installment Trades with Balance\n",
      "22 :  Number Bank/Natl Trades w high utilization ratio\n",
      "23 :  Percent Trades with Balance\n"
     ]
    }
   ],
   "source": [
    "for i in range(1,24):\n",
    "    print(i, ': ', descriptions['Description'][i])"
   ]
  },
  {
   "cell_type": "code",
   "execution_count": null,
   "metadata": {},
   "outputs": [],
   "source": []
  }
 ],
 "metadata": {
  "kernelspec": {
   "display_name": "Python 3",
   "language": "python",
   "name": "python3"
  },
  "language_info": {
   "codemirror_mode": {
    "name": "ipython",
    "version": 3
   },
   "file_extension": ".py",
   "mimetype": "text/x-python",
   "name": "python",
   "nbconvert_exporter": "python",
   "pygments_lexer": "ipython3",
   "version": "3.7.4"
  }
 },
 "nbformat": 4,
 "nbformat_minor": 2
}
